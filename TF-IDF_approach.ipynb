{
 "cells": [
  {
   "cell_type": "code",
   "execution_count": 1,
   "id": "5efdb552-f02a-4272-b98d-8aa7f7be81e4",
   "metadata": {
    "tags": []
   },
   "outputs": [],
   "source": [
    "import numpy as np\n",
    "import pandas as pd\n",
    "import re\n",
    "import nltk\n",
    "from nltk.corpus import stopwords\n",
    "from nltk.stem.porter import PorterStemmer\n",
    "from sklearn.feature_extraction.text import TfidfVectorizer\n",
    "from sklearn.model_selection import train_test_split\n",
    "from sklearn.linear_model import LogisticRegression\n",
    "from sklearn.metrics import accuracy_score\n",
    "from nltk.stem.porter import PorterStemmer\n",
    "from sklearn.metrics import confusion_matrix\n",
    "from sklearn.metrics import classification_report\n",
    "#this code is mostly the code we found online\n",
    "#this code is mostly written by us but the ideas have been taken from otheres (see refrences)\n",
    "\n",
    "port_stem = PorterStemmer()\n",
    "# pre processing and stuff\n",
    "def stemming(content):\n",
    "    review = re.sub('[^a-zA-Z]',' ',content)\n",
    "    review = review.lower()\n",
    "    review = review.split()\n",
    "    review = [port_stem.stem(word) for word in review if not word in stopwords.words('english')]\n",
    "    review = ' '.join(review)\n",
    "    return review\n",
    "\n",
    "import matplotlib.pyplot as plt\n",
    "import itertools\n",
    "\n",
    "#for visualization\n",
    "def plot_confusion_matrix(cm, classes,\n",
    "                          normalize=False,\n",
    "                          title='Confusion matrix',\n",
    "                          cmap=plt.cm.Purples):\n",
    "    plt.imshow(cm, interpolation='nearest', cmap=cmap)\n",
    "    plt.title(title)\n",
    "    plt.colorbar()\n",
    "    tick_marks = np.arange(len(classes))\n",
    "    plt.xticks(tick_marks, classes, rotation=45)\n",
    "    plt.yticks(tick_marks, classes)\n",
    "\n",
    "    if normalize:\n",
    "        cm = cm.astype('float') / cm.sum(axis=1)[:, np.newaxis]\n",
    "        print(\"Normalized confusion matrix\")\n",
    "    else:\n",
    "        print('Confusion matrix, without normalization')\n",
    "\n",
    "    thresh = cm.max() / 2.\n",
    "    for i, j in itertools.product(range(cm.shape[0]), range(cm.shape[1])):\n",
    "        plt.text(j, i, cm[i, j],\n",
    "                 horizontalalignment=\"center\",\n",
    "                 color=\"white\" if cm[i, j] > thresh else \"black\")\n",
    "\n",
    "    plt.tight_layout()\n",
    "    plt.ylabel('True label')\n",
    "    plt.xlabel('Predicted label')"
   ]
  },
  {
   "cell_type": "code",
   "execution_count": 2,
   "id": "cf17034b-6883-4c27-8e4e-aa515192ec04",
   "metadata": {
    "tags": []
   },
   "outputs": [],
   "source": [
    "#read and prepare data\n",
    "data = pd.read_csv('final_training_news_articles.csv',encoding='ISO-8859-1')\n",
    "data = data[data[\"label\"].isin([\"0\", \"1\"])]\n",
    "data = data.fillna('')\n",
    "\n",
    "data['text'] = data['text'].apply(stemming)\n",
    "X = data['text'].values\n",
    "Y = data['label'].values\n"
   ]
  },
  {
   "cell_type": "code",
   "execution_count": 3,
   "id": "64759fef-18b9-42b6-968a-536c82270ae6",
   "metadata": {
    "tags": []
   },
   "outputs": [],
   "source": [
    "from sklearn import metrics\n",
    "from sklearn.linear_model import PassiveAggressiveClassifier\n",
    "\n",
    "#vectorization\n",
    "vectorizer = TfidfVectorizer(stop_words='english', max_df=0.7, max_features=1000)\n",
    "vectorizer.fit(X)\n",
    "X = vectorizer.transform(X)\n",
    "\n",
    "#make the test and train sets\n",
    "X_train, X_test, Y_train, Y_test = train_test_split(X, Y, test_size = 0.2, stratify=Y, random_state=7)\n",
    "Y_train = [int(numeric_string) for numeric_string in Y_train]\n",
    "Y_test = [int(numeric_string) for numeric_string in Y_test]"
   ]
  },
  {
   "cell_type": "code",
   "execution_count": 4,
   "id": "928a2222-afcc-4ce6-8746-78408e5e33bf",
   "metadata": {
    "tags": []
   },
   "outputs": [],
   "source": [
    "#balancing the classes and making our classifier\n",
    "from sklearn.utils import class_weight\n",
    "class_weights = class_weight.compute_sample_weight(\"balanced\", Y_train)\n",
    "class_weights = dict(enumerate(class_weights))\n",
    "clf = LogisticRegression(max_iter=5000, class_weight=class_weights)"
   ]
  },
  {
   "cell_type": "code",
   "execution_count": 5,
   "id": "31808c7b-a305-4065-9f93-dfb8934270de",
   "metadata": {
    "tags": []
   },
   "outputs": [
    {
     "name": "stdout",
     "output_type": "stream",
     "text": [
      "Confusion matrix, without normalization\n",
      "accuracy_scores 0.8404915439834529\n",
      "precision_scores 0.8371591434293637\n",
      "recall_scores 0.9553445850914205\n",
      "f1_scores 0.8923556942277691\n"
     ]
    },
    {
     "data": {
      "image/png": "[encoded data removed]",
      "text/plain": [
       "<Figure size 640x480 with 2 Axes>"
      ]
     },
     "metadata": {},
     "output_type": "display_data"
    }
   ],
   "source": [
    "#training\n",
    "clf.fit(X_train, Y_train)\n",
    "\n",
    "#testing\n",
    "prediction2 = clf.predict(X_test)\n",
    "score = metrics.accuracy_score(Y_test, prediction2)\n",
    "\n",
    "cm1 = metrics.confusion_matrix(Y_test, prediction2)\n",
    "plot_confusion_matrix(cm1, classes=['REAL', 'FAKE'])\n",
    "\n",
    "from sklearn.metrics import accuracy_score, precision_score, recall_score, f1_score\n",
    "print (\"accuracy_scores\" ,accuracy_score(Y_test, prediction2))\n",
    "print (\"precision_scores\", precision_score(Y_test, prediction2, pos_label=1))\n",
    "print (\"recall_scores\", recall_score(Y_test, prediction2, pos_label=1))\n",
    "print (\"f1_scores\", f1_score(Y_test, prediction2, pos_label=1))"
   ]
  },
  {
   "cell_type": "code",
   "execution_count": 9,
   "id": "0d1ed894-5867-4ef1-b1b4-7a9157698643",
   "metadata": {
    "tags": []
   },
   "outputs": [
    {
     "name": "stdout",
     "output_type": "stream",
     "text": [
      "[1]\n"
     ]
    }
   ],
   "source": [
    "sample = ['this is totally a lie']\n",
    "s = vectorizer.transform(sample)\n",
    "print(clf.predict(s))"
   ]
  },
  {
   "cell_type": "code",
   "execution_count": null,
   "id": "5afc30a5-6eb0-462f-88ff-27ddb3680c32",
   "metadata": {},
   "outputs": [],
   "source": []
  }
 ],
 "metadata": {
  "kernelspec": {
   "display_name": "Python 3 (ipykernel)",
   "language": "python",
   "name": "python3"
  },
  "language_info": {
   "codemirror_mode": {
    "name": "ipython",
    "version": 3
   },
   "file_extension": ".py",
   "mimetype": "text/x-python",
   "name": "python",
   "nbconvert_exporter": "python",
   "pygments_lexer": "ipython3",
   "version": "3.10.11"
  }
 },
 "nbformat": 4,
 "nbformat_minor": 5
}
